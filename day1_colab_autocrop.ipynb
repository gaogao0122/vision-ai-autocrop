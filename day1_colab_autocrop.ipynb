{
  "nbformat": 4,
  "nbformat_minor": 0,
  "metadata": {
    "colab": {
      "provenance": []
    },
    "kernelspec": {
      "name": "python3",
      "display_name": "Python 3"
    },
    "language_info": {
      "name": "python"
    }
  },
  "cells": [
    {
      "cell_type": "code",
      "execution_count": null,
      "metadata": {
        "colab": {
          "base_uri": "https://localhost:8080/"
        },
        "id": "PaLOYWH6f_TG",
        "outputId": "370697d0-e913-4f00-ffbd-1ee1ba6024e4"
      },
      "outputs": [
        {
          "output_type": "stream",
          "name": "stdout",
          "text": [
            "Mounted at /content/drive\n"
          ]
        }
      ],
      "source": [
        "from google.colab import drive\n",
        "drive.mount('/content/drive')"
      ]
    },
    {
      "cell_type": "markdown",
      "source": [
        "# 新段落"
      ],
      "metadata": {
        "id": "oX-rK4WkjwRY"
      }
    },
    {
      "cell_type": "code",
      "source": [
        "import os\n",
        "project_path = '/content/drive/MyDrive/AI_Projects/Vision_AI_AutoCrop'\n",
        "os.chdir(project_path)"
      ],
      "metadata": {
        "id": "mbmJDhG0ghvU"
      },
      "execution_count": null,
      "outputs": []
    },
    {
      "cell_type": "code",
      "source": [
        "!ls"
      ],
      "metadata": {
        "colab": {
          "base_uri": "https://localhost:8080/"
        },
        "id": "QbKUVskcg2hz",
        "outputId": "554d2f3f-d995-471e-cbb0-01459cb00c6c"
      },
      "execution_count": null,
      "outputs": [
        {
          "output_type": "stream",
          "name": "stdout",
          "text": [
            "README.md  requirements.txt  src\n"
          ]
        }
      ]
    },
    {
      "cell_type": "code",
      "source": [
        "!python src/main.py"
      ],
      "metadata": {
        "colab": {
          "base_uri": "https://localhost:8080/"
        },
        "id": "Gq-i4yZdivYl",
        "outputId": "e2c315ee-14f3-4c27-a6ea-a7157b8481ac"
      },
      "execution_count": null,
      "outputs": [
        {
          "output_type": "stream",
          "name": "stdout",
          "text": [
            "Vision AI AutoCrop Entry Point\n"
          ]
        }
      ]
    }
  ]
}